{
  "cells": [
    {
      "cell_type": "markdown",
      "metadata": {
        "id": "b1C0Ytm_Oyq8"
      },
      "source": [
        " **1.** Write a Python function called `factorial` that takes an integer as input and returns its factorial.\n",
        "\n"
      ]
    },
    {
      "cell_type": "code",
      "execution_count": null,
      "metadata": {
        "colab": {
          "base_uri": "https://localhost:8080/"
        },
        "id": "f37IELDrO_Wl",
        "outputId": "7e73193c-7a8a-4bad-cc4d-bd753f1ed76c"
      },
      "outputs": [
        {
          "name": "stdout",
          "output_type": "stream",
          "text": [
            "Enter a number: 6\n",
            "Factorial of 6 is: 720\n"
          ]
        }
      ],
      "source": [
        "def factorial(num):\n",
        "    factor = 1\n",
        "    for i in range(num):\n",
        "        factor *= (num - i)\n",
        "    return factor\n",
        "num = int(input(\"Enter a number: \"))\n",
        "if num < 0:\n",
        "    print(\"Factorial is not defined for negative number.\")\n",
        "else:\n",
        "    result = factorial(num)\n",
        "    print(f\"Factorial of {num} is: {result}\")"
      ]
    },
    {
      "cell_type": "markdown",
      "metadata": {
        "id": "WyYMHyLTFiYT"
      },
      "source": [
        "**2.** Write a Python function called `is_palindrome` that takes a string as input and returns `True` if it is\n",
        "a palindrome and `False` otherwise."
      ]
    },
    {
      "cell_type": "code",
      "execution_count": null,
      "metadata": {
        "colab": {
          "base_uri": "https://localhost:8080/"
        },
        "id": "p86UZ7_5Fk8b",
        "outputId": "b8d720ae-58e4-404a-8204-47f544147420"
      },
      "outputs": [
        {
          "name": "stdout",
          "output_type": "stream",
          "text": [
            "Enter a word: madam\n",
            "The word \"madam\" is palindrome: True\n"
          ]
        }
      ],
      "source": [
        "def is_palindrome(word):\n",
        "    flag = True\n",
        "    n = len(word)\n",
        "    for i in range(n//2):\n",
        "        j = n - 1 - i\n",
        "        if word[i] != word[j]:\n",
        "            flag = False\n",
        "            break\n",
        "    return flag\n",
        "word = input(\"Enter a word: \")\n",
        "palindrome = is_palindrome(word)\n",
        "print(f'The word \"{word}\" is palindrome: {palindrome}')"
      ]
    },
    {
      "cell_type": "markdown",
      "metadata": {
        "id": "8lppb-BqJ9Cb"
      },
      "source": [
        "**3.** Write a Python function called `even_or_odd` that takes an integer as input and returns “Even” if\n",
        "the number is even and “Odd” if the number is odd."
      ]
    },
    {
      "cell_type": "code",
      "execution_count": null,
      "metadata": {
        "colab": {
          "base_uri": "https://localhost:8080/"
        },
        "id": "wZjiHUb4KFUc",
        "outputId": "63977cad-fd57-427a-fc64-4b7ecb958991"
      },
      "outputs": [
        {
          "name": "stdout",
          "output_type": "stream",
          "text": [
            "Enter a number: 2207\n",
            "The number 2207 is: Odd\n"
          ]
        }
      ],
      "source": [
        "def even_or_odd(num):\n",
        "    if num % 2:\n",
        "        return \"Odd\"\n",
        "    else:\n",
        "        return \"Even\"\n",
        "num = int(input(\"Enter a number: \"))\n",
        "ans = even_or_odd(num)\n",
        "print(f\"The number {num} is: {ans}\")"
      ]
    },
    {
      "cell_type": "markdown",
      "metadata": {
        "id": "zxq8rbyJVpZM"
      },
      "source": [
        "**4.** Write a Python function called `list_sum` that takes a list of integers as input and returns the sum\n",
        "of all elements in the list."
      ]
    },
    {
      "cell_type": "code",
      "execution_count": null,
      "metadata": {
        "colab": {
          "base_uri": "https://localhost:8080/"
        },
        "id": "CwLyprSIYGrk",
        "outputId": "6b3e0455-4c8a-487b-da75-30955b81966b"
      },
      "outputs": [
        {
          "output_type": "stream",
          "name": "stdout",
          "text": [
            "Enter the numbers: 1 2 3 4 5\n",
            "The Sum of the [1, 2, 3, 4, 5] is: 15\n"
          ]
        }
      ],
      "source": [
        "def list_sum(nums):\n",
        "    total = 0\n",
        "    for a in nums:\n",
        "        total += a\n",
        "    return total\n",
        "nums = list(map(int,input(\"Enter the numbers: \").split()))\n",
        "total = list_sum(nums)\n",
        "print(f\"The Sum of the {nums} is: {total}\")"
      ]
    },
    {
      "cell_type": "markdown",
      "metadata": {
        "id": "FysrtYceZuo2"
      },
      "source": [
        "**5.** Write a Python function called `Greatest Common Divisor (GCD)` that takes two integers as input\n",
        "and returns their greatest common divisor."
      ]
    },
    {
      "cell_type": "code",
      "execution_count": null,
      "metadata": {
        "colab": {
          "base_uri": "https://localhost:8080/"
        },
        "id": "2Nv92xpmZtzm",
        "outputId": "195d6326-84ae-4cb2-eda9-c295cf3d6103"
      },
      "outputs": [
        {
          "name": "stdout",
          "output_type": "stream",
          "text": [
            "Enter number one: 6\n",
            "Enter number two: 20\n",
            "The Greatest Common Divisor of 6 and  20 is: 2\n"
          ]
        }
      ],
      "source": [
        "def Greatest_Common_Divisor(num1, num2):\n",
        "    reminder, b = min(num1, num2), max(num1, num2)\n",
        "    while True:\n",
        "        if b % reminder  > 0:\n",
        "            b, reminder = reminder, b % reminder    # math.gcd()  can be used when import math\n",
        "        else:\n",
        "            return reminder\n",
        "num1 = int(input(\"Enter number one: \"))\n",
        "num2 = int(input(\"Enter number two: \"))\n",
        "GCD = Greatest_Common_Divisor(num1, num2)\n",
        "print(f\"The Greatest Common Divisor of {num1} and  {num2} is: {GCD}\")"
      ]
    },
    {
      "cell_type": "markdown",
      "metadata": {
        "id": "uT8ABuxSySXE"
      },
      "source": [
        "**6.** Write a Python function called `is_leap_year` that takes a year as input and returns `True` if it is a\n",
        "leap year and `False` otherwise."
      ]
    },
    {
      "cell_type": "code",
      "execution_count": null,
      "metadata": {
        "colab": {
          "base_uri": "https://localhost:8080/"
        },
        "id": "_LmkBRsiyYkc",
        "outputId": "10784ea1-fa8a-4859-8180-e57258614299"
      },
      "outputs": [
        {
          "output_type": "stream",
          "name": "stdout",
          "text": [
            "Enter the year: 1900\n",
            "The Year 1900 is a leap year: False\n"
          ]
        }
      ],
      "source": [
        "def is_leap_year(year):\n",
        "    if (year % 4 == 0  and year % 100 != 0) or (year % 400 == 0):\n",
        "        return True\n",
        "    else:\n",
        "        return False\n",
        "year = int(input(\"Enter the year: \"))\n",
        "Leap_Year = is_leap_year(year)\n",
        "print(f\"The Year {year} is a leap year: {Leap_Year}\")"
      ]
    },
    {
      "cell_type": "markdown",
      "metadata": {
        "id": "501-j28IzMdh"
      },
      "source": [
        "**7.** Write a Python function called `math_operations` that takes three numbers and a string\n",
        "representing an operation (‘add’, ‘subtract’, ‘multiply’, or ‘divide’). The function should return the\n",
        "result of the specified operation on the three numbers.Implement the math operations as nested functions."
      ]
    },
    {
      "cell_type": "code",
      "execution_count": null,
      "metadata": {
        "colab": {
          "base_uri": "https://localhost:8080/"
        },
        "id": "VuF-vyTkz4_E",
        "outputId": "a39dfe8a-b8e6-4380-edbe-d7c84f356ff3"
      },
      "outputs": [
        {
          "name": "stdout",
          "output_type": "stream",
          "text": [
            "Enter number one: 100\n",
            "Enter number two: 10\n",
            "Enter number three: 5\n",
            "Enter the operation: divide\n",
            "The result of operation divide on 100, 10 and 5 is: 2.0\n"
          ]
        }
      ],
      "source": [
        "def math_operation(num1, num2, num3, operation):\n",
        "    def addition(num1, num2, num3):\n",
        "        return num1 + num2 + num3\n",
        "    def subtraction(num1, num2, num3):\n",
        "        return (num1 - num2) - num3\n",
        "    def multiplication(num1, num2, num3):\n",
        "        return (num1 * num2) * num3\n",
        "    def division(num1, num2, num3):\n",
        "        if num2 == 0 or num3 == 0:\n",
        "            return \"Error: Division by Zero\"\n",
        "        return (num1 / num2) / num3\n",
        "    if operation == 'add':\n",
        "        return addition(num1, num2, num3)\n",
        "    elif operation == 'subtract':\n",
        "        return subtraction(num1, num2, num3)\n",
        "    elif operation == 'multiply':\n",
        "        return multiplication(num1, num2, num3)\n",
        "    elif operation == 'divide':\n",
        "        return division(num1, num2, num3)\n",
        "    else:\n",
        "        return \"Invalid operation\"\n",
        "num1 = int(input(\"Enter number one: \"))\n",
        "num2 = int(input(\"Enter number two: \"))\n",
        "num3 = int(input(\"Enter number three: \"))\n",
        "operation = input(\"Enter the operation: \")\n",
        "result = math_operation(num1, num2, num3, operation)\n",
        "print(f\"The result of operation {operation} on {num1}, {num2} and {num3} is: {result}\")"
      ]
    },
    {
      "cell_type": "markdown",
      "metadata": {
        "id": "NwjudsAPz3QE"
      },
      "source": [
        "**8.** Write a Python function called `temperature_converter` that takes a temperature value and a\n",
        "string representing the scale (‘C’ for Celsius or ‘F’ for Fahrenheit) as input.\n",
        "The function should convert the temperature from one scale to the other using nested functions and\n",
        "return the converted value"
      ]
    },
    {
      "cell_type": "code",
      "execution_count": 44,
      "metadata": {
        "id": "-GIe7J6QFUcr",
        "colab": {
          "base_uri": "https://localhost:8080/"
        },
        "outputId": "b86265cf-c814-4206-993c-fdb74e6df5cf"
      },
      "outputs": [
        {
          "output_type": "stream",
          "name": "stdout",
          "text": [
            "Enter the temperature: 35\n",
            "Enter the scale: F\n",
            "35°F = 1.6666666666666667°C\n"
          ]
        }
      ],
      "source": [
        "def temperature_converter(temp, scale):\n",
        "  def celsius_to_fahrenheit(temp):\n",
        "    return (temp * 9/5) + 32\n",
        "  def fahrenheit_to_celsius(temp):\n",
        "    return (temp - 32) * 5/9\n",
        "  if scale == 'C':\n",
        "    return celsius_to_fahrenheit(temp)\n",
        "  elif scale == 'F':\n",
        "    return fahrenheit_to_celsius(temp)\n",
        "temp = int(input(\"Enter the temperature: \"))\n",
        "scale = input(\"Enter the scale: \")\n",
        "temperature = temperature_converter(temp, scale)\n",
        "if scale == 'C':\n",
        "    print(f\"{temp}°C = {temperature}°F\")\n",
        "elif scale == 'F':\n",
        "    print(f\"{temp}°F = {temperature}°C\")"
      ]
    },
    {
      "cell_type": "markdown",
      "metadata": {
        "id": "M_9B1h5BHIeD"
      },
      "source": [
        "**9.** Write a Python program to find the maximum and minimum values in a given list of integers."
      ]
    },
    {
      "cell_type": "code",
      "execution_count": null,
      "metadata": {
        "colab": {
          "base_uri": "https://localhost:8080/"
        },
        "id": "B_VFYAtXHUtE",
        "outputId": "5022acdf-a7c0-4a38-d06a-de5ebf95521a"
      },
      "outputs": [
        {
          "name": "stdout",
          "output_type": "stream",
          "text": [
            "Enter the numbers: 5 4 3 2 1\n",
            "The minimum number is: 1\n",
            "The maximum number is: 5\n"
          ]
        }
      ],
      "source": [
        "nums = list(map(int,input(\"Enter the numbers: \").split()))\n",
        "min_val, max_val = nums[0], nums[0]\n",
        "for a in nums:\n",
        "  if a < min_val:  # min() can be used\n",
        "    min_val = a\n",
        "  if a > max_val:  # max() can be used\n",
        "    max_val = a\n",
        "print(f\"The minimum number is: {min_val}\")\n",
        "print(f\"The maximum number is: {max_val}\")"
      ]
    },
    {
      "cell_type": "markdown",
      "metadata": {
        "id": "WTHS0GzIIiP5"
      },
      "source": [
        "**10.** Write a Python program to reverse a given list without using any built-in functions."
      ]
    },
    {
      "cell_type": "code",
      "execution_count": null,
      "metadata": {
        "colab": {
          "base_uri": "https://localhost:8080/"
        },
        "id": "elz527m4Ih4p",
        "outputId": "fa2a92aa-e457-4698-dcd6-8d0db072c399"
      },
      "outputs": [
        {
          "name": "stdout",
          "output_type": "stream",
          "text": [
            "Enter the numbers: 1 2 3 4 5 6 7 8 9 10\n",
            "The list [1, 2, 3, 4, 5, 6, 7, 8, 9, 10]  reversed is: [10, 9, 8, 7, 6, 5, 4, 3, 2, 1]\n"
          ]
        }
      ],
      "source": [
        "nums = list(map(int,input(\"Enter the numbers: \").split()))\n",
        "reversed_nums = []\n",
        "length = len(nums)\n",
        "for i in range(length - 1, -1, -1):   # nums[::-1]  / reverse() can be used\n",
        "  reversed_nums.append(nums[i])\n",
        "print(f\"The list {nums}  reversed is: {reversed_nums}\")"
      ]
    },
    {
      "cell_type": "markdown",
      "metadata": {
        "id": "yter5g7iK6A0"
      },
      "source": [
        "**11.** Given two lists of integers, write a Python program to create a new list that contains elements\n",
        "common to both lists."
      ]
    },
    {
      "cell_type": "code",
      "execution_count": null,
      "metadata": {
        "colab": {
          "base_uri": "https://localhost:8080/"
        },
        "id": "l4gMAzGDK8L0",
        "outputId": "0405479f-b2d2-4684-b913-cd594cc061d9"
      },
      "outputs": [
        {
          "output_type": "stream",
          "name": "stdout",
          "text": [
            "Enter the numbers 1: 2 3 5 2 1 3 5 3 8\n",
            "Enter the numbers 2: 7 3 2 5 8 2 0 3 1 5 3 \n",
            "Common elements from [2, 3, 5, 2, 1, 3, 5, 3, 8] and [7, 3, 2, 5, 8, 2, 0, 3, 1, 5, 3] is: [2, 3, 5, 1, 8]\n"
          ]
        }
      ],
      "source": [
        "nums1 = list(map(int, input(\"Enter the numbers 1: \").split()))\n",
        "nums2 = list(map(int, input(\"Enter the numbers 2: \").split()))\n",
        "new_nums = []\n",
        "for a in nums1:\n",
        "  if a in nums2 and a not in new_nums:  # nested for loop can be used\n",
        "    new_nums.append(a)\n",
        "print(f\"Common elements from {nums1} and {nums2} is: {new_nums}\")"
      ]
    },
    {
      "cell_type": "markdown",
      "metadata": {
        "id": "ay_hWEZcN1wh"
      },
      "source": [
        "**12.** Given a list of integers, write a Python program to create a new list that contains the squares of\n",
        "the elements using list comprehension."
      ]
    },
    {
      "cell_type": "code",
      "execution_count": null,
      "metadata": {
        "colab": {
          "base_uri": "https://localhost:8080/"
        },
        "id": "RiIPpUP9N3PR",
        "outputId": "a87111c4-816b-4b23-e58b-1499e698e20d"
      },
      "outputs": [
        {
          "name": "stdout",
          "output_type": "stream",
          "text": [
            "Enter the numbers: 1 2 3 4 5\n",
            "The squared elements list of [1, 2, 3, 4, 5] is: [1, 4, 9, 16, 25]\n"
          ]
        }
      ],
      "source": [
        "nums = list(map(int, input(\"Enter the numbers: \").split()))\n",
        "squared_nums = [x*x for x in nums]\n",
        "print(f\"The squared elements list of {nums} is: {squared_nums}\")"
      ]
    },
    {
      "cell_type": "markdown",
      "metadata": {
        "id": "fPg6RkseQJ4E"
      },
      "source": [
        "**13.** Write a Python program to transpose a given matrix represented as a nested list."
      ]
    },
    {
      "cell_type": "code",
      "execution_count": null,
      "metadata": {
        "colab": {
          "base_uri": "https://localhost:8080/"
        },
        "id": "SEsAebjbQLus",
        "outputId": "8250cc6d-075b-431d-e76f-b58aa7a03a09"
      },
      "outputs": [
        {
          "name": "stdout",
          "output_type": "stream",
          "text": [
            "The transpose matrix of matrix [[1, 2, 3], [4, 5, 6], [7, 8, 9]] is: [[1, 4, 7], [2, 5, 8], [3, 6, 9]]\n"
          ]
        }
      ],
      "source": [
        "matrix = [[1, 2, 3],[4, 5, 6],[7, 8, 9]]\n",
        "transpose_matrix = []\n",
        "n = len(matrix)\n",
        "for i in range(n):\n",
        "  mat = []\n",
        "  for j in range(len(matrix[0])):\n",
        "    mat.append(matrix[j][i])\n",
        "  transpose_matrix.append(mat)\n",
        "print(f\"The transpose matrix of matrix {matrix} is: {transpose_matrix}\")"
      ]
    },
    {
      "cell_type": "markdown",
      "metadata": {
        "id": "DwtDNBh2UdIX"
      },
      "source": [
        "**14.** Given a list of nested lists, write a Python program to concatenate all the sublists into a single flat\n",
        "list."
      ]
    },
    {
      "cell_type": "code",
      "execution_count": null,
      "metadata": {
        "colab": {
          "base_uri": "https://localhost:8080/"
        },
        "id": "zAN7DkkIUezw",
        "outputId": "4e43b615-9e41-40fc-8685-af4fda92ff21"
      },
      "outputs": [
        {
          "output_type": "stream",
          "name": "stdout",
          "text": [
            "The flat list of the matrix [[1, 2, 3, 10], [4, 5, 6], [7, 8, 9]] is : [1, 2, 3, 10, 4, 5, 6, 7, 8, 9]\n"
          ]
        }
      ],
      "source": [
        "matrix = [[1, 2, 3, 10],[4, 5, 6],[7, 8, 9]]\n",
        "flat_list = []\n",
        "n = len(matrix)\n",
        "# for a in matrix:\n",
        "#   flat_list += a\n",
        "for i in range(n):\n",
        "  for j in range(len(matrix[i])):\n",
        "    flat_list.append(matrix[i][j])\n",
        "print(f\"The flat list of the matrix {matrix} is : {flat_list}\")"
      ]
    },
    {
      "cell_type": "markdown",
      "metadata": {
        "id": "iE19sQ85h0SM"
      },
      "source": [
        "**15.** Write a Python program to concatenate two tuples and create a new tuple. And then write a\n",
        "Python program to extract a slice of elements from the new tuple."
      ]
    },
    {
      "cell_type": "code",
      "execution_count": 48,
      "metadata": {
        "colab": {
          "base_uri": "https://localhost:8080/"
        },
        "id": "TajZVNdBh278",
        "outputId": "22f398c0-5474-4173-b7d4-8f2abf3c5719"
      },
      "outputs": [
        {
          "output_type": "stream",
          "name": "stdout",
          "text": [
            "New tuple after concatenation: (1, 2, 3, 4, 5, 6, 7, 8, 9, 10)\n",
            "Slice of the new tuple: (3, 4, 5, 6)\n"
          ]
        }
      ],
      "source": [
        "nums1 = (1, 2, 3, 4, 5)\n",
        "nums2 = (6, 7, 8, 9, 10)\n",
        "new_tuple = nums1 + nums2\n",
        "slice_new_tuple = new_tuple[2:6]\n",
        "print(f\"New tuple after concatenation: {new_tuple}\")\n",
        "print(f\"Slice of the new tuple: {slice_new_tuple}\")"
      ]
    },
    {
      "cell_type": "markdown",
      "metadata": {
        "id": "50dLICw3zvR8"
      },
      "source": [
        "**16.**\n",
        "\n",
        "**a)** Given a tuple with three elements (x, y, z), write a Python program to unpack the tuple\n",
        "and assign the values to three variables.\n",
        "\n",
        "**b)** Write a Python program to pack three variables into a single tuple and print the tuple."
      ]
    },
    {
      "cell_type": "code",
      "execution_count": null,
      "metadata": {
        "colab": {
          "base_uri": "https://localhost:8080/"
        },
        "id": "fGRGxwUIzwTk",
        "outputId": "b39c18f5-4e15-42a2-bd7b-96d18f063992"
      },
      "outputs": [
        {
          "name": "stdout",
          "output_type": "stream",
          "text": [
            "Tuple (1, 2, 3) unpacked into variables: x = 1, y = 2, z = 3\n",
            "Variables a = 10, b = 20, c = 30 packed into a single tuple: (10, 20, 30)\n"
          ]
        }
      ],
      "source": [
        "# a)\n",
        "three_elements_tuple = (1, 2, 3)\n",
        "x, y, z = three_elements_tuple\n",
        "print(f\"Tuple {three_elements_tuple} unpacked into variables: x = {x}, y = {y}, z = {z}\")\n",
        "# b)\n",
        "a, b, c = 10, 20, 30\n",
        "packed_tuple = (a, b, c)\n",
        "print(f\"Variables a = {a}, b = {b}, c = {c} packed into a single tuple: {packed_tuple}\")"
      ]
    },
    {
      "cell_type": "markdown",
      "metadata": {
        "id": "ZmOjCP1Fz3uU"
      },
      "source": [
        "**17.**\n",
        "\n",
        "**a)** Write a Python program to sort a tuple of integers in ascending order.\n",
        "\n",
        "**b)** Write a Python program to reverse a tuple without using any built-in functions."
      ]
    },
    {
      "cell_type": "code",
      "execution_count": 45,
      "metadata": {
        "colab": {
          "base_uri": "https://localhost:8080/"
        },
        "id": "I_1Qvooaz4Bt",
        "outputId": "cd2abd70-3619-4dd4-dcb1-d591f8eb568a"
      },
      "outputs": [
        {
          "output_type": "stream",
          "name": "stdout",
          "text": [
            "The integer tuple (5, 4, 3, 2, 1) is sorted in ascending order: (1, 2, 3, 4, 5)\n",
            "The tuple (10, 20, 30, 40, 50) is reversed: (50, 40, 30, 20, 10)\n"
          ]
        }
      ],
      "source": [
        "# a)\n",
        "int_tuple = (5, 4, 3, 2, 1)\n",
        "# sort_tuple = tuple(sorted(int_tuple))\n",
        "int_list = list(int_tuple)\n",
        "# int_list.sort()\n",
        "# sort_tuple = tuple(int_list)\n",
        "n = len(int_list)\n",
        "for i in range(n):\n",
        "  for j in range(n - i - 1):\n",
        "    if int_list[j] > int_list[j + 1]:\n",
        "      int_list[j], int_list[j + 1]  = int_list[j + 1], int_list[j]\n",
        "sort_tuple = tuple(int_list)\n",
        "print(f\"The integer tuple {int_tuple} is sorted in ascending order: {sort_tuple}\")\n",
        "# b)\n",
        "new_tuple = (10, 20, 30, 40, 50)\n",
        "# reverse_tuple = new_tuple[::-1]\n",
        "# reverse_tuple = tuple(reversed(new_tuple))\n",
        "reversed_tuple = ()\n",
        "for i in range(len(new_tuple) - 1, -1, -1):\n",
        "  reversed_tuple += (new_tuple[i],)\n",
        "print(f\"The tuple {new_tuple} is reversed: {reversed_tuple}\")"
      ]
    },
    {
      "cell_type": "markdown",
      "metadata": {
        "id": "cQaL-pvjkYUf"
      },
      "source": [
        "**18.** Given a tuple containing various elements, write a Python program to count the frequency of a\n",
        "specific element in the tuple."
      ]
    },
    {
      "cell_type": "code",
      "execution_count": 47,
      "metadata": {
        "colab": {
          "base_uri": "https://localhost:8080/"
        },
        "id": "_-MH1dygkZ23",
        "outputId": "af5548d1-3d7c-4ddd-d8d7-604c2c456b8e"
      },
      "outputs": [
        {
          "output_type": "stream",
          "name": "stdout",
          "text": [
            "Enter the numbers: 1 2 3 4 2 1 2 3 5 3 2 \n",
            "Enter the element to count: 3\n",
            "The frequency count of 3 is: 3\n"
          ]
        }
      ],
      "source": [
        "nums = tuple(map(int, input(\"Enter the numbers: \").split()))\n",
        "specific_element = int(input(\"Enter the element to count: \"))\n",
        "frequency_count = 0\n",
        "for a in nums:\n",
        "  if specific_element == a:\n",
        "    frequency_count += 1\n",
        "print(f\"The frequency count of {specific_element} is: {frequency_count}\")"
      ]
    },
    {
      "cell_type": "markdown",
      "metadata": {
        "id": "3hknWl228Kx9"
      },
      "source": [
        "**19.** Given two tuples of integers, write a Python program to perform element-wise addition,\n",
        "subtraction, and multiplication and create new tuples for each operation."
      ]
    },
    {
      "cell_type": "code",
      "execution_count": null,
      "metadata": {
        "colab": {
          "base_uri": "https://localhost:8080/"
        },
        "id": "B39_o9YR8QS9",
        "outputId": "4d6a4e48-31e0-4c24-8651-4e4bf5910047"
      },
      "outputs": [
        {
          "name": "stdout",
          "output_type": "stream",
          "text": [
            "The addition of (1, 2, 3, 4, 5) and (6, 7, 8, 9, 10) is: (7, 9, 11, 13, 15)\n",
            "The subtraction of (1, 2, 3, 4, 5) and (6, 7, 8, 9, 10) is: (5, 5, 5, 5, 5)\n",
            "The multiplication of (1, 2, 3, 4, 5) and (6, 7, 8, 9, 10) is: (6, 14, 24, 36, 50)\n"
          ]
        }
      ],
      "source": [
        "tuple1 = (1, 2, 3, 4, 5)\n",
        "tuple2 = (6, 7, 8, 9, 10)\n",
        "addition, subtraction, multiplication  = (), (), ()\n",
        "for i in range(len(tuple1)):\n",
        "  # addition = tuple(map((lambda x,y : x+y), tuple1, tuple2))\n",
        "  addition += (tuple1[i] + tuple2[i],)\n",
        "  # subtraction = tuple(map((lambda x,y : x-y), tuple2, tuple1))\n",
        "  subtraction += (tuple2[i] - tuple1[i],)\n",
        "  # multiplication = tuple(map((lambda x,y : x*y), tuple1, tuple2))\n",
        "  multiplication += (tuple1[i] * tuple2[i],)\n",
        "print(f\"The addition of {tuple1} and {tuple2} is: {addition}\")\n",
        "print(f\"The subtraction of {tuple1} and {tuple2} is: {subtraction}\")\n",
        "print(f\"The multiplication of {tuple1} and {tuple2} is: {multiplication}\")"
      ]
    },
    {
      "cell_type": "markdown",
      "metadata": {
        "id": "FmFWchMGm7iT"
      },
      "source": [
        "**20.** Write a Python program that takes an element as input and checks if it exists in a given tuple."
      ]
    },
    {
      "cell_type": "code",
      "execution_count": 46,
      "metadata": {
        "colab": {
          "base_uri": "https://localhost:8080/"
        },
        "id": "plVDB-mlm82z",
        "outputId": "a9cdf3a0-cfaf-4bd7-8988-e14ebc27c9c6"
      },
      "outputs": [
        {
          "output_type": "stream",
          "name": "stdout",
          "text": [
            "Enter a number: 25\n",
            "The number 25 does not exists in the tuple (1, 2, 3, 4, 5)\n"
          ]
        }
      ],
      "source": [
        "num = int(input(\"Enter a number: \"))\n",
        "nums = (1, 2, 3, 4, 5)\n",
        "if num in nums:\n",
        "  print(f\"The number {num} exists in the tuple {nums}\")\n",
        "else:\n",
        "  print(f\"The number {num} does not exists in the tuple {nums}\")"
      ]
    }
  ],
  "metadata": {
    "colab": {
      "provenance": []
    },
    "kernelspec": {
      "display_name": "Python 3",
      "name": "python3"
    },
    "language_info": {
      "name": "python"
    }
  },
  "nbformat": 4,
  "nbformat_minor": 0
}