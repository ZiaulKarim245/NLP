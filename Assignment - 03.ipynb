{
  "cells": [
    {
      "cell_type": "markdown",
      "metadata": {
        "id": "Ou5WmLdXWHhM"
      },
      "source": [
        "**1.** Write a Python program and take a temperature input and print:\n",
        "\n",
        "       ● Cold (temp < 15)\n",
        "\n",
        "       ● Warm (15 ≤ temp < 30)\n",
        "\n",
        "       ● Hot (temp ≥ 30)  \n",
        "\n"
      ]
    },
    {
      "cell_type": "code",
      "execution_count": null,
      "metadata": {
        "colab": {
          "base_uri": "https://localhost:8080/"
        },
        "id": "VpX1IGtSWcIV",
        "outputId": "869c6b3d-adcb-4da2-9a4e-6c3928a4fd5f"
      },
      "outputs": [],
      "source": [
        "temp = int(input(\"Enter temperature: \"))\n",
        "if temp < 15:\n",
        "    print(\"Cold\")\n",
        "elif 15 <= temp < 30:\n",
        "    print(\"Warm\")\n",
        "else:\n",
        "    print(\"Hot\")"
      ]
    },
    {
      "cell_type": "markdown",
      "metadata": {
        "id": "wQd71r_FWHpM"
      },
      "source": [
        "**2.** Write a Python program and take accuracy input (0–100%).\n",
        "\n",
        "        ● If accuracy ≥ 90 → Excellent Model\n",
        "\n",
        "        ● If 70–89 → Good Model\n",
        "\n",
        "        ● If 50–69 → Average Model\n",
        "\n",
        "        ● Else → Poor Model\n"
      ]
    },
    {
      "cell_type": "code",
      "execution_count": null,
      "metadata": {
        "colab": {
          "base_uri": "https://localhost:8080/"
        },
        "id": "L4rFQilMYUdq",
        "outputId": "0c38a87c-b328-4d6b-a105-d2011e563906"
      },
      "outputs": [
        {
          "name": "stdout",
          "output_type": "stream",
          "text": [
            "Enter accuracy in percentage: 69\n",
            "Average Model\n"
          ]
        }
      ],
      "source": [
        "accu = int(input(\"Enter accuracy in percentage: \"))\n",
        "if accu >= 90:\n",
        "    print(\"Excellent Model\")\n",
        "elif 70 <= accu <= 89:\n",
        "    print(\"Good Model\")\n",
        "elif 50 <= accu <= 69:\n",
        "    print(\"Average Model\")\n",
        "else:\n",
        "    print(\"Poor Model\")"
      ]
    },
    {
      "cell_type": "markdown",
      "metadata": {
        "id": "uhA4gT7BWH0L"
      },
      "source": [
        "**3.** Write a Python program and take an integer dataset size input and print whether it is Even or\n",
        "Odd.\n"
      ]
    },
    {
      "cell_type": "code",
      "execution_count": null,
      "metadata": {
        "colab": {
          "base_uri": "https://localhost:8080/"
        },
        "id": "tR_KxmTZY6a2",
        "outputId": "b8c7953a-9b60-4121-e4f0-b63bf637b40d"
      },
      "outputs": [
        {
          "name": "stdout",
          "output_type": "stream",
          "text": [
            "Enter a number:13\n",
            "Odd\n"
          ]
        }
      ],
      "source": [
        "num = int(input(\"Enter a number:\"))\n",
        "if num % 2 == 0:\n",
        "    print(\"Even\")\n",
        "else:\n",
        "    print(\"Odd\")"
      ]
    },
    {
      "cell_type": "markdown",
      "metadata": {
        "id": "xo5QQndkWH4z"
      },
      "source": [
        "**4.** Write a Python program and take two loss values as input (model_1_loss, model_2_loss) and\n",
        "print which model performs better."
      ]
    },
    {
      "cell_type": "code",
      "execution_count": null,
      "metadata": {
        "colab": {
          "base_uri": "https://localhost:8080/"
        },
        "id": "wHncN74NZFpf",
        "outputId": "bc4ee464-a63f-4a6c-c34d-1daa3f01a088"
      },
      "outputs": [
        {
          "name": "stdout",
          "output_type": "stream",
          "text": [
            "Enter losses: 12.2 32\n",
            "Model 1 is better\n"
          ]
        }
      ],
      "source": [
        "model_1_loss , model_2_loss = map(float, input(\"Enter losses: \").split())\n",
        "if model_1_loss < model_2_loss:\n",
        "    print(\"Model 1 is better\")\n",
        "elif model_1_loss > model_2_loss:\n",
        "    print(\"Model 2 is better\")\n",
        "else:\n",
        "    print(\"Both models will perform equally well\")"
      ]
    },
    {
      "cell_type": "markdown",
      "metadata": {
        "id": "ME4VSE5UWH8E"
      },
      "source": [
        "**5.** Write a Python program and take a message as input.\n",
        "      \n",
        "       ● If \"offer\" or \"free\" is present, then print \"Spam Message.\"\n",
        "      \n",
        "       ● Else → \"Not Spam\"\n"
      ]
    },
    {
      "cell_type": "code",
      "execution_count": 7,
      "metadata": {
        "colab": {
          "base_uri": "https://localhost:8080/"
        },
        "id": "qsO7L6ydZr07",
        "outputId": "7fe5749c-9616-4d27-fcfe-d163dbe4bb94"
      },
      "outputs": [
        {
          "name": "stdout",
          "output_type": "stream",
          "text": [
            "Enter a message: I want to offEr you someting for Free\n",
            "Spam Message.\n"
          ]
        }
      ],
      "source": [
        "mess = input(\"Enter a message: \")\n",
        "if \"offer\" in mess.lower() or \"free\" in mess.lower():\n",
        "    print(\"Spam Message.\")\n",
        "else:\n",
        "    print(\"Not Spam.\")"
      ]
    },
    {
      "cell_type": "markdown",
      "metadata": {
        "id": "cwonZ7YFWH_V"
      },
      "source": [
        "**6.** Write a Python program and give input:\n",
        "\n",
        "      ● Age\n",
        "\n",
        "      ● Number of published papers\n",
        "rules:\n",
        "\n",
        "      ● If age ≥ 18:\n",
        "\n",
        "         ○ If papers ≥ 2 → \"Eligible for Talk\"\n",
        "\n",
        "         ○ Else → \"Eligible for Attendee only\"\n",
        "\n",
        "      ● Else → \"Not Eligible\"\n"
      ]
    },
    {
      "cell_type": "code",
      "execution_count": null,
      "metadata": {
        "colab": {
          "base_uri": "https://localhost:8080/"
        },
        "id": "6yaoSNThdiHM",
        "outputId": "de38f033-91f7-4fda-b057-43f23f0c7d34"
      },
      "outputs": [
        {
          "name": "stdout",
          "output_type": "stream",
          "text": [
            "Enter age and number of papers: 25 0\n",
            "Eligible for Attendee only\n"
          ]
        }
      ],
      "source": [
        "age, num_pap = map(int, input(\"Enter age and number of papers: \").split())\n",
        "if age >= 18:\n",
        "    if num_pap >=2:\n",
        "        print(\"Eligible for Talk\")\n",
        "    else:\n",
        "        print(\"Eligible for Attendee only\")\n",
        "else:\n",
        "    print(\"Not Eligible\")"
      ]
    },
    {
      "cell_type": "markdown",
      "metadata": {
        "id": "zMqMq0yKWICz"
      },
      "source": [
        "\n",
        "**7.** Write a Python program with the following inputs: accuracy and latency (ms).\n",
        "\n",
        "    ● If Accuracy ≥ 85:\n",
        "\n",
        "      ○ If Latency ≤ 100ms → \"Ready for Production\"\n",
        "\n",
        "      ○ Else → \"Needs Optimization\"\n",
        "\n",
        "    ● Else → \"Not Suitable for Deployment\"\n"
      ]
    },
    {
      "cell_type": "code",
      "execution_count": null,
      "metadata": {
        "colab": {
          "base_uri": "https://localhost:8080/"
        },
        "id": "pe79D7q_eDTA",
        "outputId": "5093abb8-43e0-46b9-a138-dc4c522687aa"
      },
      "outputs": [
        {
          "name": "stdout",
          "output_type": "stream",
          "text": [
            "Enter Accuracy and Latency: 82 98\n",
            "Not Suitable for Deployment\n"
          ]
        }
      ],
      "source": [
        "accu, late = map(int, input(\"Enter Accuracy and Latency: \").split())\n",
        "if accu >= 85:\n",
        "    if late <= 100:\n",
        "        print(\"Ready for Production\")\n",
        "    else:\n",
        "        print(\"Needs Optimization\")\n",
        "else:\n",
        "    print(\"Not Suitable for Deployment\")"
      ]
    },
    {
      "cell_type": "markdown",
      "metadata": {
        "id": "ltfneLb3WK_M"
      },
      "source": [
        "**8.** Write a Python program with the following inputs: number of samples and percentage of\n",
        "missing values.\n",
        "\n",
        "    ● If samples ≥ 1000:\n",
        "\n",
        "      ○ If missing ≤ 10% → \"Good Dataset\"\n",
        "\n",
        "      ○ Else → \"Needs Cleaning\"\n",
        "\n",
        "    ● Else → \"Insufficient Data\"\n"
      ]
    },
    {
      "cell_type": "code",
      "execution_count": null,
      "metadata": {
        "colab": {
          "base_uri": "https://localhost:8080/"
        },
        "id": "OpuqCO4qedgq",
        "outputId": "d1966c0b-8ff7-49c9-cf69-8a38035e2d0e"
      },
      "outputs": [
        {
          "name": "stdout",
          "output_type": "stream",
          "text": [
            "Enter the number of samples: 2532\n",
            "Enter the percentage of missing values (e.g.: 10 for 10%): 24\n",
            "Needs Cleaning\n"
          ]
        }
      ],
      "source": [
        "num_samp = int(input(\"Enter the number of samples: \"))\n",
        "per_miss_val  = float(input(\"Enter the percentage of missing values (e.g.: 10 for 10%): \"))\n",
        "if num_samp >= 1000:\n",
        "    if per_miss_val <= 10:\n",
        "        print(\"Good Dataset\")\n",
        "    else:\n",
        "        print(\"Needs Cleaning\")\n",
        "else:\n",
        "    print(\"Insufficient Data\")"
      ]
    },
    {
      "cell_type": "markdown",
      "metadata": {
        "id": "Zp60Z9oQWLGs"
      },
      "source": [
        "**9.** Write a Python program inputs: data_source (public/private) and consent (yes/no)\n",
        "\n",
        "    ● If data_source == public → \"Usable Data\"\n",
        "\n",
        "    ● Else nested check:\n",
        "\n",
        "      ○ If consent == yes → \"Usable Data\"\n",
        "\n",
        "      ○ Else → \"Ethical Issue\"\n"
      ]
    },
    {
      "cell_type": "code",
      "execution_count": 6,
      "metadata": {
        "colab": {
          "base_uri": "https://localhost:8080/"
        },
        "id": "pogo-4ehfPE4",
        "outputId": "804a4c55-f2f2-493b-c6b8-7451b469897c"
      },
      "outputs": [
        {
          "name": "stdout",
          "output_type": "stream",
          "text": [
            "Enter the data source and consent: Priavate Yes\n",
            "Usable Data\n"
          ]
        }
      ],
      "source": [
        "data_sour, cons = input(\"Enter the data source and consent: \").split()\n",
        "if data_sour.lower() == \"public\":\n",
        "    print(\"Usable Data\")\n",
        "else:\n",
        "    if cons.lower() == \"yes\":\n",
        "        print(\"Usable Data\")\n",
        "    else:\n",
        "        print(\"Ethical Issue\")"
      ]
    },
    {
      "cell_type": "markdown",
      "metadata": {
        "id": "54-n_lXyWLOM"
      },
      "source": [
        "**10.** Write a Python program with the input:\n",
        "problem_type (classification/regression) and dataset_size.\n",
        "\n",
        "    ● If classification:\n",
        "\n",
        "      ○ If dataset_size ≤ 5000 → \"Logistic Regression\"\n",
        "\n",
        "      ○ Else → \"Neural Network\"\n",
        "\n",
        "    ● If regression:\n",
        "\n",
        "      ○ If dataset_size ≤ 10000 → \"Linear Regression\"\n",
        "\n",
        "      ○ Else → \"XGBoost\"\n"
      ]
    },
    {
      "cell_type": "code",
      "execution_count": null,
      "metadata": {
        "colab": {
          "base_uri": "https://localhost:8080/"
        },
        "id": "WCfxHT1FgunK",
        "outputId": "9c79c44c-0ec2-4c60-d2ae-27537942a28c"
      },
      "outputs": [
        {
          "name": "stdout",
          "output_type": "stream",
          "text": [
            "Enter problem type and dataset size: REGRESSION 293222\n",
            "XGBoost\n"
          ]
        }
      ],
      "source": [
        "prob_type, data_size = input(\"Enter problem type and dataset size: \").split()\n",
        "prob_type = prob_type.lower()\n",
        "data_size = int(data_size)\n",
        "if prob_type == \"classification\":\n",
        "    if data_size <= 5000:\n",
        "        print(\"Logistic Regression\")\n",
        "    else:\n",
        "        print(\"Neural Network\")\n",
        "elif prob_type == \"regression\":\n",
        "    if data_size <= 10000:\n",
        "        print(\"Linear Regression\")\n",
        "    else:\n",
        "        print(\"XGBoost\")"
      ]
    },
    {
      "cell_type": "markdown",
      "metadata": {
        "id": "8hhmgLBHWLV0"
      },
      "source": [
        "**11.** Write a Python program and take an initial loss value as input.\n",
        "While loss > 0.1: subtract 0.05 each iteration and print loss.\n"
      ]
    },
    {
      "cell_type": "code",
      "execution_count": null,
      "metadata": {
        "colab": {
          "base_uri": "https://localhost:8080/"
        },
        "id": "ZhWrH67IhLVN",
        "outputId": "4419e673-8fd4-4ecf-d48b-f572254ddb8e"
      },
      "outputs": [
        {
          "name": "stdout",
          "output_type": "stream",
          "text": [
            "Enter the loss value: 0.25\n",
            "Loss value = 0.20\n",
            "Loss value = 0.15\n",
            "Loss value = 0.10\n",
            "Loss value = 0.05\n"
          ]
        }
      ],
      "source": [
        "loss_val = float(input(\"Enter the loss value: \"))\n",
        "while loss_val > 0.1:\n",
        "    loss_val -= 0.05\n",
        "    print(f\"Loss value = {loss_val:.2f}\")"
      ]
    },
    {
      "cell_type": "markdown",
      "metadata": {
        "id": "rEGwwkKPWLc8"
      },
      "source": [
        "**12.** Write a Python program and Create a chatbot that takes user input.\n",
        "It should keep responding \"Bot: I am learning...\" until the user types \"exit.\"\n"
      ]
    },
    {
      "cell_type": "code",
      "execution_count": null,
      "metadata": {
        "colab": {
          "base_uri": "https://localhost:8080/"
        },
        "id": "_nsPfJoThaA2",
        "outputId": "cd9f3932-42b7-46b3-88e0-ef230446ef6c"
      },
      "outputs": [
        {
          "name": "stdout",
          "output_type": "stream",
          "text": [
            "User: I have a problem\n",
            "Bot: I am learning...\n",
            "User: Exit\n"
          ]
        }
      ],
      "source": [
        "while True:\n",
        "      user_inp = input(\"User: \")\n",
        "      if user_inp.lower() == \"exit\":\n",
        "            break\n",
        "      else:\n",
        "            print(\"Bot: I am learning...\")"
      ]
    },
    {
      "cell_type": "markdown",
      "metadata": {
        "id": "8tSqGWy1WLj0"
      },
      "source": [
        "**13.** Write a Python program and use a while loop to count from 1 up to dataset_size and print the final count.\n"
      ]
    },
    {
      "cell_type": "code",
      "execution_count": null,
      "metadata": {
        "colab": {
          "base_uri": "https://localhost:8080/"
        },
        "id": "6I9tc45ip1Xt",
        "outputId": "47be4658-2fe9-462e-efc5-e5a3ebbf3976"
      },
      "outputs": [
        {
          "name": "stdout",
          "output_type": "stream",
          "text": [
            "Enter dataset size: 10\n",
            "Final Count: 10\n"
          ]
        }
      ],
      "source": [
        "data_size = int(input(\"Enter dataset size: \"))\n",
        "i = 1\n",
        "count = 0\n",
        "while i <= data_size:  # since question said up to \"dataset_size\"\n",
        "    count += 1\n",
        "    i += 1\n",
        "print(f\"Final Count: {count}\")"
      ]
    },
    {
      "cell_type": "markdown",
      "metadata": {
        "id": "ehWfcGX9WLrM"
      },
      "source": [
        "**14.** Write a Python program and take input: total_epochs.\n",
        "For each epoch, print \"Training epoch X\" until all epochs are completed.\n"
      ]
    },
    {
      "cell_type": "code",
      "execution_count": null,
      "metadata": {
        "colab": {
          "base_uri": "https://localhost:8080/"
        },
        "id": "ZCS7EvMurL0N",
        "outputId": "aa07c263-c38a-4cd7-e36e-a6b18b00b829"
      },
      "outputs": [
        {
          "name": "stdout",
          "output_type": "stream",
          "text": [
            "Enter total epochs: 5\n",
            "Training epoch 1\n",
            "Training epoch 2\n",
            "Training epoch 3\n",
            "Training epoch 4\n",
            "Training epoch 5\n"
          ]
        }
      ],
      "source": [
        "total_epo = int(input(\"Enter total epochs: \"))\n",
        "i = 1\n",
        "while i <= total_epo:\n",
        "    print(f\"Training epoch {i}\")\n",
        "    i += 1"
      ]
    },
    {
      "cell_type": "markdown",
      "metadata": {
        "id": "TN1qTtkHWLyU"
      },
      "source": [
        "**15.** Write a Python program and take input: a number.\n",
        "Use a while loop to keep dividing the number by 2 until the value ≤ 1. Print each step.\n"
      ]
    },
    {
      "cell_type": "code",
      "execution_count": 5,
      "metadata": {
        "colab": {
          "base_uri": "https://localhost:8080/"
        },
        "id": "9gztcHRVuV-O",
        "outputId": "0de1f662-13a4-4b2b-df4a-612cc5fd6a7f"
      },
      "outputs": [
        {
          "name": "stdout",
          "output_type": "stream",
          "text": [
            "Enter a number: 10\n",
            "10.0 / 2 = 5.00\n",
            "5.0 / 2 = 2.50\n",
            "2.5 / 2 = 1.25\n",
            "1.25 / 2 = 0.62\n"
          ]
        }
      ],
      "source": [
        "num = float(input(\"Enter a number: \"))\n",
        "while num > 1:\n",
        "  print(f\"{num} / 2 = {num/2:.2f}\")\n",
        "  num /= 2"
      ]
    },
    {
      "cell_type": "markdown",
      "metadata": {
        "id": "oEoEjBhEWL5c"
      },
      "source": [
        "**16.** Write a Python program and take input: password.\n",
        "    \n",
        "    ● If length ≥ 8:\n",
        "      \n",
        "      ○ If \"AI\" exists → \"Strong Password\"\n",
        "      \n",
        "      ○ Else → \"Weak Password\"\n",
        "    \n",
        "    ● Else → \"Invalid Password\"\n"
      ]
    },
    {
      "cell_type": "code",
      "execution_count": null,
      "metadata": {
        "colab": {
          "base_uri": "https://localhost:8080/"
        },
        "id": "vmNi8_289JoX",
        "outputId": "c2982061-93f0-4bed-d374-dc4a9df1c7ee"
      },
      "outputs": [
        {
          "name": "stdout",
          "output_type": "stream",
          "text": [
            "Enter a password: skdfjAI19243\n",
            "Strong Password\n"
          ]
        }
      ],
      "source": [
        "password = input(\"Enter a password: \")\n",
        "length = len(password)\n",
        "if length >= 8:\n",
        "  if \"AI\" in password.upper():  # To check both \"ai\"/\"AI\"\n",
        "    print(\"Strong Password\")\n",
        "  else:\n",
        "    print(\"Weak Password\")\n",
        "else:\n",
        "  print(\"Invalid Password\")"
      ]
    },
    {
      "cell_type": "markdown",
      "metadata": {
        "id": "4UkoGYf_WMAc"
      },
      "source": [
        "17. Write a Python program and take Input: learning_rate = 0.1.\n",
        "While learning_rate > 0.001, divide learning_rate by 2 and print each value."
      ]
    },
    {
      "cell_type": "code",
      "execution_count": null,
      "metadata": {
        "colab": {
          "base_uri": "https://localhost:8080/"
        },
        "id": "eFcOyoKT-Lws",
        "outputId": "de9f0aa9-34b7-4990-afa5-d42a83c7f878"
      },
      "outputs": [
        {
          "name": "stdout",
          "output_type": "stream",
          "text": [
            "Enter Learning rate: 0.1\n",
            "0.1 / 2 = 0.0500\n",
            "0.05 / 2 = 0.0250\n",
            "0.025 / 2 = 0.0125\n",
            "0.0125 / 2 = 0.0063\n",
            "0.00625 / 2 = 0.0031\n",
            "0.003125 / 2 = 0.0016\n",
            "0.0015625 / 2 = 0.0008\n"
          ]
        }
      ],
      "source": [
        "learning_rate = float(input(\"Enter Learning rate: \"))\n",
        "while learning_rate > 0.001:\n",
        "  print(f\"{learning_rate} / 2 = {learning_rate/2:.4f}\")\n",
        "  learning_rate /= 2\n"
      ]
    },
    {
      "cell_type": "markdown",
      "metadata": {
        "id": "ZBZdh7fPWMHc"
      },
      "source": [
        "18. Write a Python program and take input: dataset_labels (number of labels).\n",
        "Use a while loop to count even labels only.\n"
      ]
    },
    {
      "cell_type": "code",
      "execution_count": null,
      "metadata": {
        "colab": {
          "base_uri": "https://localhost:8080/"
        },
        "id": "UA2lkRem4dRW",
        "outputId": "65a133b1-4583-4661-f4a8-536cb8540bca"
      },
      "outputs": [
        {
          "name": "stdout",
          "output_type": "stream",
          "text": [
            "Enter number of labels: 10\n",
            "Even labels: 5\n"
          ]
        }
      ],
      "source": [
        "dataset_labels = int(input(\"Enter number of labels: \"))\n",
        "count = 0\n",
        "i = 1\n",
        "while i <= dataset_labels:\n",
        "  if i % 2 == 0:\n",
        "    count += 1\n",
        "  i += 1\n",
        "print(f\"Even labels: {count}\")"
      ]
    },
    {
      "cell_type": "markdown",
      "metadata": {
        "id": "zOBP62t54dz1"
      },
      "source": [
        "19. Write a Python program and take input: accuracy = 50\n",
        "While accuracy < 95: increase accuracy by 5 and print \"Current Accuracy: x%.\"\n"
      ]
    },
    {
      "cell_type": "code",
      "execution_count": null,
      "metadata": {
        "colab": {
          "base_uri": "https://localhost:8080/"
        },
        "id": "ZF6sfK7XBwSo",
        "outputId": "67cd2bfe-33e0-4735-f71e-043fe34954bd"
      },
      "outputs": [
        {
          "name": "stdout",
          "output_type": "stream",
          "text": [
            "Enter accuracy: 50\n",
            "current Accuracy: 55%\n",
            "current Accuracy: 60%\n",
            "current Accuracy: 65%\n",
            "current Accuracy: 70%\n",
            "current Accuracy: 75%\n",
            "current Accuracy: 80%\n",
            "current Accuracy: 85%\n",
            "current Accuracy: 90%\n",
            "current Accuracy: 95%\n"
          ]
        }
      ],
      "source": [
        "accuracy = int(input(\"Enter accuracy: \"))\n",
        "while accuracy < 95:\n",
        "  accuracy += 5\n",
        "  print(f\"Current Accuracy: {accuracy}%\")"
      ]
    },
    {
      "cell_type": "markdown",
      "metadata": {
        "id": "fYAyuTfQ4gN9"
      },
      "source": [
        "20. Write a Python program and take input: marks (0-100).\n",
        "\n",
        "    ● If marks ≥ 80 → \"AI Expert\"\n",
        "\n",
        "    ● Else if marks ≥ 60 → \"AI Learner\"\n",
        "\n",
        "    ● Else → \"Needs Improvement\"\n"
      ]
    },
    {
      "cell_type": "code",
      "execution_count": null,
      "metadata": {
        "colab": {
          "base_uri": "https://localhost:8080/"
        },
        "id": "GIRSnveyCu8l",
        "outputId": "2cc62154-9fab-47c1-9b18-7067c4909efa"
      },
      "outputs": [
        {
          "name": "stdout",
          "output_type": "stream",
          "text": [
            "Enter marks: 75\n",
            "AI Learner\n"
          ]
        }
      ],
      "source": [
        "marks = int(input(\"Enter marks: \"))\n",
        "if marks >= 80:\n",
        "  print(\"AI Expert\")\n",
        "elif marks >= 60:\n",
        "  print(\"AI Learner\")\n",
        "else:\n",
        "  print(\"Needs Improvement\")"
      ]
    }
  ],
  "metadata": {
    "colab": {
      "provenance": []
    },
    "kernelspec": {
      "display_name": "Python 3",
      "name": "python3"
    },
    "language_info": {
      "codemirror_mode": {
        "name": "ipython",
        "version": 3
      },
      "file_extension": ".py",
      "mimetype": "text/x-python",
      "name": "python",
      "nbconvert_exporter": "python",
      "pygments_lexer": "ipython3",
      "version": "3.13.4"
    }
  },
  "nbformat": 4,
  "nbformat_minor": 0
}
